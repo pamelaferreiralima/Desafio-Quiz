{
  "nbformat": 4,
  "nbformat_minor": 0,
  "metadata": {
    "colab": {
      "name": "Aula 01 - Algoritmos e Técnicas de Programação.ipynb",
      "provenance": [],
      "include_colab_link": true
    },
    "kernelspec": {
      "name": "python3",
      "display_name": "Python 3"
    }
  },
  "cells": [
    {
      "cell_type": "markdown",
      "metadata": {
        "id": "view-in-github",
        "colab_type": "text"
      },
      "source": [
        "<a href=\"https://colab.research.google.com/github/pamelaferreiralima/Desafio-Quiz/blob/main/Aula_01_Algoritmos_e_T%C3%A9cnicas_de_Programa%C3%A7%C3%A3o.ipynb\" target=\"_parent\"><img src=\"https://colab.research.google.com/assets/colab-badge.svg\" alt=\"Open In Colab\"/></a>"
      ]
    },
    {
      "cell_type": "markdown",
      "metadata": {
        "id": "BE0I7zuyStH_"
      },
      "source": [
        "# **Python: por que aprender?**\n",
        "\n",
        "* É fácil\n",
        "* Tem uma grande comunidade\n",
        "* Excelentes bibliotecas (exemplos: pandas, numpy, mathplotlib, sklearn, ....)\n",
        "* A mais usada em ciência de dados\n",
        "* Demandada no mercado (No cargo de Desenvolvedor Python se inicia ganhando R\\$ 2.166,00 de salário e pode vir a ganhar até R\\$ 7.009,00. A média salarial para Desenvolvedor Python no Brasil é de R\\$ 4.130,00. - site: https://www.vagas.com.br/cargo/desenvolvedor-python)\n"
      ]
    },
    {
      "cell_type": "markdown",
      "metadata": {
        "id": "LLJ4Rzq0qHAA"
      },
      "source": [
        "# **Conceitos iniciais:**\n",
        "\n",
        "**Variáveis:**\n",
        "São \"caixinhas\" na memória do computador que servem para guardar dados.\n",
        "\n",
        "**Tipos de dados:**\n",
        "Estes dados podem ser de vários tipos:\n",
        "\n",
        "* Números **inteiros** (símbolo: 'int'); exemplos: 2, 3, 4, 9, ... sua idade\n",
        "* Números **reais** (símbolo: 'float'); exemplos: $\\pi$=3.14159..., 2.54, seu peso, sua altura, ...\n",
        "* **Texto** (símbolo: 'str', abreviação de *string*); exemplos: \"Oi!\", 'Assim também é texto', \"Algoritmos e Programação\", ..\n",
        "* .... e outros que veremos adiante\n",
        "\n",
        "\n"
      ]
    },
    {
      "cell_type": "code",
      "metadata": {
        "colab": {
          "base_uri": "https://localhost:8080/"
        },
        "id": "-7C-rDtDSqJp",
        "outputId": "a2d6a71b-c337-4b11-cab9-1cdba8a5fe4f"
      },
      "source": [
        "a = 2\n",
        "print(a) # estou mostrando o valor da variável 'a'\n",
        "print(type(a))  # descubro qual é o tipo de dado da variável 'a'"
      ],
      "execution_count": null,
      "outputs": [
        {
          "output_type": "stream",
          "text": [
            "2\n",
            "<class 'int'>\n"
          ],
          "name": "stdout"
        }
      ]
    },
    {
      "cell_type": "code",
      "metadata": {
        "colab": {
          "base_uri": "https://localhost:8080/"
        },
        "id": "2siU24XQz6YV",
        "outputId": "4b95748f-14ee-42cd-8173-1ad819b5d260"
      },
      "source": [
        "b = 3.1415\n",
        "print(b)\n",
        "print(type(b))  # descubro qual é o tipo de dado da variável 'b'\n",
        "\n",
        "c = \"Alô, mundo!!\"\n",
        "print(c)\n",
        "print(type(c))  # descubro qual é o tipo de dado da variável 'c'"
      ],
      "execution_count": null,
      "outputs": [
        {
          "output_type": "stream",
          "text": [
            "3.1415\n",
            "<class 'float'>\n",
            "Alô, mundo!!\n",
            "<class 'str'>\n"
          ],
          "name": "stdout"
        }
      ]
    },
    {
      "cell_type": "markdown",
      "metadata": {
        "id": "q08whJ4TqGbU"
      },
      "source": [
        "**Descobriu o que faz o operador \"=\"?**\n",
        "\n",
        "Ele é conhecido como **atribuição**; ele faz com que um valor à direita seja copiado para uma variável à esquerda.\n",
        "O valor de uma variável pode ser alterado várias vezes durante um programa:"
      ]
    },
    {
      "cell_type": "code",
      "metadata": {
        "colab": {
          "base_uri": "https://localhost:8080/"
        },
        "id": "qa4HMxbVl4vy",
        "outputId": "25fb06b0-fc6c-44cb-9369-6fd9c86b9d3e"
      },
      "source": [
        "print(a)\n",
        "a = 6\n",
        "print(a)"
      ],
      "execution_count": null,
      "outputs": [
        {
          "output_type": "stream",
          "text": [
            "2\n",
            "6\n"
          ],
          "name": "stdout"
        }
      ]
    },
    {
      "cell_type": "markdown",
      "metadata": {
        "id": "SWkxae_mLZbo"
      },
      "source": [
        "**Operações aritméticas:**\n",
        "\n",
        "Do lado direito da atribuição podemos fazer operações aritméticas:\n",
        "* \\+ (soma),\n",
        "* \\- (subtração),\n",
        "* \\* (multiplicação),\n",
        "* \\/ (divisão real),\n",
        "* \\// (divisão inteira),\n",
        "* \\% (resto da divisão inteira ou módulo)\n",
        "* \\** (exponenciação)\n",
        "\n",
        "\n",
        "**Exemplos:**"
      ]
    },
    {
      "cell_type": "code",
      "metadata": {
        "colab": {
          "base_uri": "https://localhost:8080/"
        },
        "id": "UVCwZV7uLYk8",
        "outputId": "cf9f8d91-3733-440f-c230-05941f36d778"
      },
      "source": [
        "x = 3\n",
        "y = 2\n",
        "z = x + y\n",
        "print(z)"
      ],
      "execution_count": null,
      "outputs": [
        {
          "output_type": "stream",
          "text": [
            "5\n"
          ],
          "name": "stdout"
        }
      ]
    },
    {
      "cell_type": "code",
      "metadata": {
        "colab": {
          "base_uri": "https://localhost:8080/"
        },
        "id": "olZExDdsZniO",
        "outputId": "f3607e94-e1e2-4f7f-c329-f267cd853850"
      },
      "source": [
        "z = x - y\n",
        "print(z)"
      ],
      "execution_count": null,
      "outputs": [
        {
          "output_type": "stream",
          "text": [
            "1\n"
          ],
          "name": "stdout"
        }
      ]
    },
    {
      "cell_type": "code",
      "metadata": {
        "colab": {
          "base_uri": "https://localhost:8080/"
        },
        "id": "_guqr9hLZqYM",
        "outputId": "3a5ed7d6-aa85-4e02-ad4e-997749b41bf4"
      },
      "source": [
        "z = x * y\n",
        "print(z)"
      ],
      "execution_count": null,
      "outputs": [
        {
          "output_type": "stream",
          "text": [
            "6\n"
          ],
          "name": "stdout"
        }
      ]
    },
    {
      "cell_type": "code",
      "metadata": {
        "colab": {
          "base_uri": "https://localhost:8080/"
        },
        "id": "mh3bEUjlZvPU",
        "outputId": "adf6c2fc-7973-4549-d94c-ae29f0e3efc4"
      },
      "source": [
        "z = x / y\n",
        "print(z)"
      ],
      "execution_count": null,
      "outputs": [
        {
          "output_type": "stream",
          "text": [
            "1.5\n"
          ],
          "name": "stdout"
        }
      ]
    },
    {
      "cell_type": "code",
      "metadata": {
        "colab": {
          "base_uri": "https://localhost:8080/"
        },
        "id": "f60ZeJDdakcz",
        "outputId": "5b0820be-bb92-4828-fb54-8463a6b3f796"
      },
      "source": [
        "z = x // y\n",
        "print(z)"
      ],
      "execution_count": null,
      "outputs": [
        {
          "output_type": "stream",
          "text": [
            "1\n"
          ],
          "name": "stdout"
        }
      ]
    },
    {
      "cell_type": "markdown",
      "metadata": {
        "id": "Sy_lBJBKgm3n"
      },
      "source": [
        "*Entendeu o que aconteceu aqui em cima? Consegue explicar?*"
      ]
    },
    {
      "cell_type": "code",
      "metadata": {
        "colab": {
          "base_uri": "https://localhost:8080/"
        },
        "id": "1cqFo6ZkhmFC",
        "outputId": "c22353f2-28dc-46ed-e0c9-e99ae4dcb16c"
      },
      "source": [
        "x = 11\n",
        "y = 3\n",
        "z = x % y\n",
        "print(z)"
      ],
      "execution_count": null,
      "outputs": [
        {
          "output_type": "stream",
          "text": [
            "2\n"
          ],
          "name": "stdout"
        }
      ]
    },
    {
      "cell_type": "markdown",
      "metadata": {
        "id": "BgDSjZWwh03u"
      },
      "source": [
        "*E aqui em cima? Consegue explicar?*"
      ]
    },
    {
      "cell_type": "code",
      "metadata": {
        "colab": {
          "base_uri": "https://localhost:8080/"
        },
        "id": "pId9_Rbyamcs",
        "outputId": "82cca533-6daf-4fe9-fd92-e57abd04acbf"
      },
      "source": [
        "x = 3\n",
        "y = 2\n",
        "z = x ** y\n",
        "print(z)"
      ],
      "execution_count": null,
      "outputs": [
        {
          "output_type": "stream",
          "text": [
            "9\n"
          ],
          "name": "stdout"
        }
      ]
    },
    {
      "cell_type": "markdown",
      "metadata": {
        "id": "KMXHZhHibBjT"
      },
      "source": [
        "**Entrada e saída de dados:**\n",
        "\n",
        "Vocês já sabem como mostrar algo na tela do computador, não é?"
      ]
    },
    {
      "cell_type": "code",
      "metadata": {
        "colab": {
          "base_uri": "https://localhost:8080/"
        },
        "id": "r-29dnxdj_Hz",
        "outputId": "2bcecd4d-5fb3-403a-aa19-0778fb81756f"
      },
      "source": [
        "print(\"Alô mundo!\")\n",
        "print('O valor de x é', x, 'e o de y é', y)"
      ],
      "execution_count": null,
      "outputs": [
        {
          "output_type": "stream",
          "text": [
            "Alô mundo!\n",
            "O valor de x é 3 e o de y é 2\n"
          ],
          "name": "stdout"
        }
      ]
    },
    {
      "cell_type": "markdown",
      "metadata": {
        "id": "FdjTrMu4yCqk"
      },
      "source": [
        "Agora veja como podemos ler algo digitado pelo teclado:"
      ]
    },
    {
      "cell_type": "code",
      "metadata": {
        "colab": {
          "base_uri": "https://localhost:8080/"
        },
        "id": "I-ToifvGyWRv",
        "outputId": "093fb4d6-2460-4c90-a891-e4571d3e9f99"
      },
      "source": [
        "nome = input('Qual é o seu nome? ')\n",
        "print('O seu nome é', nome)"
      ],
      "execution_count": null,
      "outputs": [
        {
          "output_type": "stream",
          "text": [
            "Qual é o seu nome? Carlos Menezes\n",
            "O seu nome é Carlos Menezes\n"
          ],
          "name": "stdout"
        }
      ]
    },
    {
      "cell_type": "markdown",
      "metadata": {
        "id": "zrcsS45kyx6n"
      },
      "source": [
        "*Repare* que o *input* somente devolve um texto ('str' é uma abreviação de *string*):"
      ]
    },
    {
      "cell_type": "code",
      "metadata": {
        "colab": {
          "base_uri": "https://localhost:8080/"
        },
        "id": "Y6Jrm90RzDic",
        "outputId": "3a22461e-a3d8-4aae-d987-08d46d74e370"
      },
      "source": [
        "print(type(nome))"
      ],
      "execution_count": null,
      "outputs": [
        {
          "output_type": "stream",
          "text": [
            "<class 'str'>\n"
          ],
          "name": "stdout"
        }
      ]
    },
    {
      "cell_type": "markdown",
      "metadata": {
        "id": "tnhI608wzPem"
      },
      "source": [
        "E como fazemos para ler um número? Uso **int()** ou **float()** para converter um texto em número."
      ]
    },
    {
      "cell_type": "code",
      "metadata": {
        "colab": {
          "base_uri": "https://localhost:8080/"
        },
        "id": "a0Q4JpDvOg9V",
        "outputId": "f641c45b-1356-4dc6-f00d-cb02af839ac6"
      },
      "source": [
        "texto = \"123\"\n",
        "print(type(texto))\n",
        "numero = int(texto)  # converto o texto \"123\" para o número 123\n",
        "print(type(numero))"
      ],
      "execution_count": null,
      "outputs": [
        {
          "output_type": "stream",
          "text": [
            "<class 'str'>\n",
            "<class 'int'>\n"
          ],
          "name": "stdout"
        }
      ]
    },
    {
      "cell_type": "code",
      "metadata": {
        "id": "25YvQqTkzjsi"
      },
      "source": [
        "idade = int(input('Qual é sua idade? '))  # converto a leitura (texto) em número inteiro\n",
        "altura = float(input('Qual é sua altura? '))  # converto a leitura (texto) em número real\n",
        "peso = float(input('Qual é seu peso? '))  # converto a leitura (texto) em número real\n",
        "print(nome, ', você tem', idade, 'anos de idade,', altura, 'm de altura e', peso, 'kg de peso.')"
      ],
      "execution_count": null,
      "outputs": []
    },
    {
      "cell_type": "markdown",
      "metadata": {
        "id": "BnCc_scS1QWy"
      },
      "source": [
        "---\n",
        "# **Exercícios:**\n",
        "\n",
        "**Agora é hora de praticar:**"
      ]
    },
    {
      "cell_type": "markdown",
      "metadata": {
        "id": "45SXR6861sJe"
      },
      "source": [
        "1) Faça um programa em Python que converta dólares em reais.\n"
      ]
    },
    {
      "cell_type": "code",
      "metadata": {
        "id": "An_JN0A1DsPP",
        "colab": {
          "base_uri": "https://localhost:8080/"
        },
        "outputId": "fa7322d8-0be6-4d35-889b-1ca75b8b1e62"
      },
      "source": [
        "# 1) Entrada de dados (quantidade de dólares) --- Entrada\n",
        "dolares = float(input(\"Entre com o valor em dólares: \"))\n",
        "# 2) Calcular o valor equivalente em reais --- Processamento\n",
        "reais = dolares * 5.43\n",
        "# 3) Mostrar a resposta (em reais) --- Saída\n",
        "print('US$', dolares, 'equivalem a R$', reais)"
      ],
      "execution_count": null,
      "outputs": [
        {
          "output_type": "stream",
          "text": [
            "Entre com o valor em dólares: 20\n",
            "US$ 20.0 equivalem a R$ 108.6\n"
          ],
          "name": "stdout"
        }
      ]
    },
    {
      "cell_type": "markdown",
      "metadata": {
        "id": "vmRGQs3IDtQA"
      },
      "source": [
        "2) Faça um programa que converta reais em dólares.\n"
      ]
    },
    {
      "cell_type": "code",
      "metadata": {
        "id": "7DmfMzMjDy0g"
      },
      "source": [
        ""
      ],
      "execution_count": null,
      "outputs": []
    },
    {
      "cell_type": "markdown",
      "metadata": {
        "id": "Cf5s1lamDzuu"
      },
      "source": [
        "3) Faça um programa que calcule a área de um retângulo e seu perímetro com base em seus dois lados.\n"
      ]
    },
    {
      "cell_type": "code",
      "metadata": {
        "id": "nnXcWpksD8ZT"
      },
      "source": [
        ""
      ],
      "execution_count": null,
      "outputs": []
    },
    {
      "cell_type": "markdown",
      "metadata": {
        "id": "lBDooXJmDzlK"
      },
      "source": [
        "4) Faça um programa que converta a temperatura de graus Celsius para graus Fahrenheit.\n",
        "$$\n",
        "F = \\frac{9}{5}*C + 32\n",
        "$$"
      ]
    },
    {
      "cell_type": "code",
      "metadata": {
        "id": "ldrb3m2NECP6"
      },
      "source": [
        ""
      ],
      "execution_count": null,
      "outputs": []
    },
    {
      "cell_type": "markdown",
      "metadata": {
        "id": "znSMQi3bDzeX"
      },
      "source": [
        "5) Faça um programa que converta a temperatura de graus Fahrenheit para graus Celsius."
      ]
    },
    {
      "cell_type": "code",
      "metadata": {
        "id": "m545MaxjEGQO"
      },
      "source": [
        ""
      ],
      "execution_count": null,
      "outputs": []
    },
    {
      "cell_type": "markdown",
      "metadata": {
        "id": "JtzwNsK-EHQO"
      },
      "source": [
        "6) Faça um programa que calcule o Índice de Massa Corporal (IMC) com base no peso e altura do indivíduo:\n",
        "$$\n",
        "IMC = \\frac{peso}{altura^2} \\\\\n",
        "$$\n"
      ]
    },
    {
      "cell_type": "code",
      "metadata": {
        "id": "WL-Bi7GkELv2"
      },
      "source": [
        ""
      ],
      "execution_count": null,
      "outputs": []
    },
    {
      "cell_type": "markdown",
      "metadata": {
        "id": "mrjc84whEMYE"
      },
      "source": [
        "7) Calcular a hipotenusa de um triângulo retângulo com base em seus catetos:\n",
        "$$\n",
        "hipotenusa = \\sqrt { cateto_1^2+ cateto_2^2 }\n",
        "$$\n"
      ]
    },
    {
      "cell_type": "code",
      "metadata": {
        "id": "hO7ljOVnERIa",
        "colab": {
          "base_uri": "https://localhost:8080/"
        },
        "outputId": "2d783884-1d32-4528-c9b2-726b8bcb4e64"
      },
      "source": [
        "import math\n",
        "#Entrada\n",
        "cateto1 = float(input(\"Entre com a medida do cateto 1:\"))\n",
        "cateto2 = float(input(\"Entre com a medida do cateto 2:\"))\n",
        "#Processamento\n",
        "hipotenusa = math.sqrt(cateto1**2 + cateto2**2)  #SQuare RooT = raiz quadrada\n",
        "#Saída\n",
        "print('A hipotenusa mede', hipotenusa)"
      ],
      "execution_count": null,
      "outputs": [
        {
          "output_type": "stream",
          "text": [
            "Entre com a medida do cateto 1:3\n",
            "Entre com a medida do cateto 2:4\n",
            "A hipotenusa mede 5.0\n"
          ],
          "name": "stdout"
        }
      ]
    },
    {
      "cell_type": "markdown",
      "metadata": {
        "id": "byf7YKQ0ESM_"
      },
      "source": [
        "8) Faça um programa que calcule a área de um círculo e sua circunferência com base no raio.\n",
        "$$\n",
        "circunferencia = 2 * \\pi * raio \\\\\n",
        "area = \\pi * raio ^ 2\n",
        "$$"
      ]
    },
    {
      "cell_type": "code",
      "metadata": {
        "id": "KsgBNkH_EXa6",
        "colab": {
          "base_uri": "https://localhost:8080/"
        },
        "outputId": "4f4d5d66-a0cf-4029-da7c-b51bf7596f31"
      },
      "source": [
        "import math\n",
        "# Entrada\n",
        "raio = float(input(\"Entre com a medida do raio: \"))\n",
        "# Processamento\n",
        "circunferencia = 2*math.pi*raio\n",
        "area = math.pi * raio**2\n",
        "# Saída\n",
        "print(\"A circunferência mede\", circunferencia, \"e a área mede\", area)"
      ],
      "execution_count": null,
      "outputs": [
        {
          "output_type": "stream",
          "text": [
            "Entre com a medida do raio: 2\n",
            "A circunferência mede 12.566370614359172 e a área mede 12.566370614359172\n"
          ],
          "name": "stdout"
        }
      ]
    },
    {
      "cell_type": "markdown",
      "metadata": {
        "id": "WmOfl8mfEYNR"
      },
      "source": [
        "9) Faça um programa que calcule a área de um triângulo com base em sua base e sua altura.\n",
        "$$\n",
        "area = \\frac{base * altura}{2} \\\\\n",
        "$$"
      ]
    },
    {
      "cell_type": "code",
      "metadata": {
        "id": "NhEgImGYEfiu"
      },
      "source": [
        ""
      ],
      "execution_count": null,
      "outputs": []
    },
    {
      "cell_type": "markdown",
      "metadata": {
        "id": "li5TeKxQEgql"
      },
      "source": [
        "10) Faça um programa que calcule a área de um triângulo com base em seus três lados (fórmula de Herão ou Hierão). Sendo a, b e c os lados:\n",
        "$$\n",
        "p = \\frac{a+b+c}{2}, \n",
        "area = \\sqrt{ p*(p-a)*(p-b)*(p-c) }\n",
        "$$"
      ]
    },
    {
      "cell_type": "code",
      "metadata": {
        "id": "P5bsjF7aEitA"
      },
      "source": [
        ""
      ],
      "execution_count": null,
      "outputs": []
    }
  ]
}